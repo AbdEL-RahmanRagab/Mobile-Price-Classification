{
 "cells": [
  {
   "cell_type": "markdown",
   "id": "0cd98458",
   "metadata": {
    "papermill": {
     "duration": 0.009509,
     "end_time": "2025-02-04T16:00:50.471753",
     "exception": false,
     "start_time": "2025-02-04T16:00:50.462244",
     "status": "completed"
    },
    "tags": []
   },
   "source": [
    "\n",
    "# **📊 Mobile Price Classification with Machine Learning**\n",
    "\n",
    "In this notebook, we will explore and apply machine learning techniques to classify mobile phones into different price ranges based on their features. \n",
    "\n",
    "We'll follow these main steps:\n",
    "1. **Data Exploration**: We'll start by loading the dataset and inspecting the data to check for missing values, understand the distribution of the target variable (`price_range`), and explore the features.\n",
    "2. **Data Preprocessing**: This includes scaling the features to make sure the data is ready for training.\n",
    "3. **Model Training**: We'll train several machine learning models like **Logistic Regression**, **Random Forest**, **Support Vector Machine (SVM)**, and **XGBoost.**\n",
    "4. **Model Evaluation**: Finally, we'll evaluate the performance of our models using accuracy, classification reports, and confusion matrices.\n",
    "\n",
    "By the end of this notebook, you will have a better understanding of how to use various machine learning algorithms for classification tasks, and how to visualize the results.\n",
    "\n",
    "---\n",
    "\n",
    "### **Steps:**\n",
    "- **Step 1: Data Preprocessing**: Cleaning the data and scaling it for better model performance.\n",
    "- **Step 2: Model Training**: Trying different models like Logistic Regression, Random Forest, SVM, and XGBoost.\n",
    "- **Step 3: Evaluation**: Assessing model performance using accuracy and confusion matrices."
   ]
  },
  {
   "cell_type": "markdown",
   "id": "c7f2f3cb",
   "metadata": {
    "papermill": {
     "duration": 0.006507,
     "end_time": "2025-02-04T16:00:50.485437",
     "exception": false,
     "start_time": "2025-02-04T16:00:50.478930",
     "status": "completed"
    },
    "tags": []
   },
   "source": [
    "# 🔧 Importing Necessary Libraries"
   ]
  },
  {
   "cell_type": "code",
   "execution_count": 1,
   "id": "d48c958f",
   "metadata": {
    "execution": {
     "iopub.execute_input": "2025-02-04T16:00:50.501115Z",
     "iopub.status.busy": "2025-02-04T16:00:50.500534Z",
     "iopub.status.idle": "2025-02-04T16:00:54.583329Z",
     "shell.execute_reply": "2025-02-04T16:00:54.582040Z"
    },
    "papermill": {
     "duration": 4.093584,
     "end_time": "2025-02-04T16:00:54.585880",
     "exception": false,
     "start_time": "2025-02-04T16:00:50.492296",
     "status": "completed"
    },
    "tags": []
   },
   "outputs": [],
   "source": [
    "# Data manipulation and handling\n",
    "import numpy as np \n",
    "import pandas as pd \n",
    "\n",
    "# Data visualization\n",
    "import matplotlib.pyplot as plt\n",
    "import seaborn as sns\n",
    "\n",
    "# Handling missing values\n",
    "import missingno as msno \n",
    "\n",
    "# Scaling data\n",
    "from sklearn.preprocessing import StandardScaler, MinMaxScaler\n",
    "\n",
    "# Splitting the dataset into training and testing sets\n",
    "from sklearn.model_selection import train_test_split\n",
    "\n",
    "# Machine Learning models\n",
    "from sklearn.linear_model import LogisticRegression\n",
    "from sklearn.ensemble import RandomForestClassifier\n",
    "from sklearn.svm import SVC \n",
    "import xgboost as xgb\n",
    "\n",
    "# Model evaluation\n",
    "from sklearn.metrics import accuracy_score, classification_report, confusion_matrix\n"
   ]
  },
  {
   "cell_type": "markdown",
   "id": "860d00e8",
   "metadata": {
    "papermill": {
     "duration": 0.007036,
     "end_time": "2025-02-04T16:00:54.600711",
     "exception": false,
     "start_time": "2025-02-04T16:00:54.593675",
     "status": "completed"
    },
    "tags": []
   },
   "source": [
    "# read dataset(train)"
   ]
  },
  {
   "cell_type": "code",
   "execution_count": 2,
   "id": "57feb825",
   "metadata": {
    "execution": {
     "iopub.execute_input": "2025-02-04T16:00:54.617120Z",
     "iopub.status.busy": "2025-02-04T16:00:54.616469Z",
     "iopub.status.idle": "2025-02-04T16:00:54.648429Z",
     "shell.execute_reply": "2025-02-04T16:00:54.646963Z"
    },
    "papermill": {
     "duration": 0.042653,
     "end_time": "2025-02-04T16:00:54.650715",
     "exception": false,
     "start_time": "2025-02-04T16:00:54.608062",
     "status": "completed"
    },
    "tags": []
   },
   "outputs": [],
   "source": [
    "df_train  = pd.read_csv(\"/kaggle/input/mobile-price-classification/train.csv\")"
   ]
  },
  {
   "cell_type": "markdown",
   "id": "800a17c1",
   "metadata": {
    "papermill": {
     "duration": 0.006533,
     "end_time": "2025-02-04T16:00:54.664634",
     "exception": false,
     "start_time": "2025-02-04T16:00:54.658101",
     "status": "completed"
    },
    "tags": []
   },
   "source": [
    "# read dataset(test)"
   ]
  },
  {
   "cell_type": "code",
   "execution_count": 3,
   "id": "41862dd3",
   "metadata": {
    "execution": {
     "iopub.execute_input": "2025-02-04T16:00:54.680779Z",
     "iopub.status.busy": "2025-02-04T16:00:54.680273Z",
     "iopub.status.idle": "2025-02-04T16:00:54.698329Z",
     "shell.execute_reply": "2025-02-04T16:00:54.696993Z"
    },
    "papermill": {
     "duration": 0.028365,
     "end_time": "2025-02-04T16:00:54.700538",
     "exception": false,
     "start_time": "2025-02-04T16:00:54.672173",
     "status": "completed"
    },
    "tags": []
   },
   "outputs": [],
   "source": [
    "df_test = pd.read_csv(\"/kaggle/input/mobile-price-classification/test.csv\")"
   ]
  },
  {
   "cell_type": "code",
   "execution_count": 4,
   "id": "d4e666c6",
   "metadata": {
    "execution": {
     "iopub.execute_input": "2025-02-04T16:00:54.716241Z",
     "iopub.status.busy": "2025-02-04T16:00:54.715727Z",
     "iopub.status.idle": "2025-02-04T16:00:54.761797Z",
     "shell.execute_reply": "2025-02-04T16:00:54.760336Z"
    },
    "papermill": {
     "duration": 0.056108,
     "end_time": "2025-02-04T16:00:54.763655",
     "exception": false,
     "start_time": "2025-02-04T16:00:54.707547",
     "status": "completed"
    },
    "tags": []
   },
   "outputs": [
    {
     "data": {
      "text/html": [
       "<div>\n",
       "<style scoped>\n",
       "    .dataframe tbody tr th:only-of-type {\n",
       "        vertical-align: middle;\n",
       "    }\n",
       "\n",
       "    .dataframe tbody tr th {\n",
       "        vertical-align: top;\n",
       "    }\n",
       "\n",
       "    .dataframe thead th {\n",
       "        text-align: right;\n",
       "    }\n",
       "</style>\n",
       "<table border=\"1\" class=\"dataframe\">\n",
       "  <thead>\n",
       "    <tr style=\"text-align: right;\">\n",
       "      <th></th>\n",
       "      <th>battery_power</th>\n",
       "      <th>blue</th>\n",
       "      <th>clock_speed</th>\n",
       "      <th>dual_sim</th>\n",
       "      <th>fc</th>\n",
       "      <th>four_g</th>\n",
       "      <th>int_memory</th>\n",
       "      <th>m_dep</th>\n",
       "      <th>mobile_wt</th>\n",
       "      <th>n_cores</th>\n",
       "      <th>...</th>\n",
       "      <th>px_height</th>\n",
       "      <th>px_width</th>\n",
       "      <th>ram</th>\n",
       "      <th>sc_h</th>\n",
       "      <th>sc_w</th>\n",
       "      <th>talk_time</th>\n",
       "      <th>three_g</th>\n",
       "      <th>touch_screen</th>\n",
       "      <th>wifi</th>\n",
       "      <th>price_range</th>\n",
       "    </tr>\n",
       "  </thead>\n",
       "  <tbody>\n",
       "    <tr>\n",
       "      <th>0</th>\n",
       "      <td>842</td>\n",
       "      <td>0</td>\n",
       "      <td>2.2</td>\n",
       "      <td>0</td>\n",
       "      <td>1</td>\n",
       "      <td>0</td>\n",
       "      <td>7</td>\n",
       "      <td>0.6</td>\n",
       "      <td>188</td>\n",
       "      <td>2</td>\n",
       "      <td>...</td>\n",
       "      <td>20</td>\n",
       "      <td>756</td>\n",
       "      <td>2549</td>\n",
       "      <td>9</td>\n",
       "      <td>7</td>\n",
       "      <td>19</td>\n",
       "      <td>0</td>\n",
       "      <td>0</td>\n",
       "      <td>1</td>\n",
       "      <td>1</td>\n",
       "    </tr>\n",
       "    <tr>\n",
       "      <th>1</th>\n",
       "      <td>1021</td>\n",
       "      <td>1</td>\n",
       "      <td>0.5</td>\n",
       "      <td>1</td>\n",
       "      <td>0</td>\n",
       "      <td>1</td>\n",
       "      <td>53</td>\n",
       "      <td>0.7</td>\n",
       "      <td>136</td>\n",
       "      <td>3</td>\n",
       "      <td>...</td>\n",
       "      <td>905</td>\n",
       "      <td>1988</td>\n",
       "      <td>2631</td>\n",
       "      <td>17</td>\n",
       "      <td>3</td>\n",
       "      <td>7</td>\n",
       "      <td>1</td>\n",
       "      <td>1</td>\n",
       "      <td>0</td>\n",
       "      <td>2</td>\n",
       "    </tr>\n",
       "    <tr>\n",
       "      <th>2</th>\n",
       "      <td>563</td>\n",
       "      <td>1</td>\n",
       "      <td>0.5</td>\n",
       "      <td>1</td>\n",
       "      <td>2</td>\n",
       "      <td>1</td>\n",
       "      <td>41</td>\n",
       "      <td>0.9</td>\n",
       "      <td>145</td>\n",
       "      <td>5</td>\n",
       "      <td>...</td>\n",
       "      <td>1263</td>\n",
       "      <td>1716</td>\n",
       "      <td>2603</td>\n",
       "      <td>11</td>\n",
       "      <td>2</td>\n",
       "      <td>9</td>\n",
       "      <td>1</td>\n",
       "      <td>1</td>\n",
       "      <td>0</td>\n",
       "      <td>2</td>\n",
       "    </tr>\n",
       "    <tr>\n",
       "      <th>3</th>\n",
       "      <td>615</td>\n",
       "      <td>1</td>\n",
       "      <td>2.5</td>\n",
       "      <td>0</td>\n",
       "      <td>0</td>\n",
       "      <td>0</td>\n",
       "      <td>10</td>\n",
       "      <td>0.8</td>\n",
       "      <td>131</td>\n",
       "      <td>6</td>\n",
       "      <td>...</td>\n",
       "      <td>1216</td>\n",
       "      <td>1786</td>\n",
       "      <td>2769</td>\n",
       "      <td>16</td>\n",
       "      <td>8</td>\n",
       "      <td>11</td>\n",
       "      <td>1</td>\n",
       "      <td>0</td>\n",
       "      <td>0</td>\n",
       "      <td>2</td>\n",
       "    </tr>\n",
       "    <tr>\n",
       "      <th>4</th>\n",
       "      <td>1821</td>\n",
       "      <td>1</td>\n",
       "      <td>1.2</td>\n",
       "      <td>0</td>\n",
       "      <td>13</td>\n",
       "      <td>1</td>\n",
       "      <td>44</td>\n",
       "      <td>0.6</td>\n",
       "      <td>141</td>\n",
       "      <td>2</td>\n",
       "      <td>...</td>\n",
       "      <td>1208</td>\n",
       "      <td>1212</td>\n",
       "      <td>1411</td>\n",
       "      <td>8</td>\n",
       "      <td>2</td>\n",
       "      <td>15</td>\n",
       "      <td>1</td>\n",
       "      <td>1</td>\n",
       "      <td>0</td>\n",
       "      <td>1</td>\n",
       "    </tr>\n",
       "  </tbody>\n",
       "</table>\n",
       "<p>5 rows × 21 columns</p>\n",
       "</div>"
      ],
      "text/plain": [
       "   battery_power  blue  clock_speed  dual_sim  fc  four_g  int_memory  m_dep  \\\n",
       "0            842     0          2.2         0   1       0           7    0.6   \n",
       "1           1021     1          0.5         1   0       1          53    0.7   \n",
       "2            563     1          0.5         1   2       1          41    0.9   \n",
       "3            615     1          2.5         0   0       0          10    0.8   \n",
       "4           1821     1          1.2         0  13       1          44    0.6   \n",
       "\n",
       "   mobile_wt  n_cores  ...  px_height  px_width   ram  sc_h  sc_w  talk_time  \\\n",
       "0        188        2  ...         20       756  2549     9     7         19   \n",
       "1        136        3  ...        905      1988  2631    17     3          7   \n",
       "2        145        5  ...       1263      1716  2603    11     2          9   \n",
       "3        131        6  ...       1216      1786  2769    16     8         11   \n",
       "4        141        2  ...       1208      1212  1411     8     2         15   \n",
       "\n",
       "   three_g  touch_screen  wifi  price_range  \n",
       "0        0             0     1            1  \n",
       "1        1             1     0            2  \n",
       "2        1             1     0            2  \n",
       "3        1             0     0            2  \n",
       "4        1             1     0            1  \n",
       "\n",
       "[5 rows x 21 columns]"
      ]
     },
     "execution_count": 4,
     "metadata": {},
     "output_type": "execute_result"
    }
   ],
   "source": [
    "df_train.head()"
   ]
  },
  {
   "cell_type": "code",
   "execution_count": 5,
   "id": "71102a94",
   "metadata": {
    "execution": {
     "iopub.execute_input": "2025-02-04T16:00:54.779590Z",
     "iopub.status.busy": "2025-02-04T16:00:54.779193Z",
     "iopub.status.idle": "2025-02-04T16:00:54.795126Z",
     "shell.execute_reply": "2025-02-04T16:00:54.793876Z"
    },
    "papermill": {
     "duration": 0.025935,
     "end_time": "2025-02-04T16:00:54.796854",
     "exception": false,
     "start_time": "2025-02-04T16:00:54.770919",
     "status": "completed"
    },
    "tags": []
   },
   "outputs": [
    {
     "data": {
      "text/plain": [
       "price_range\n",
       "1    500\n",
       "2    500\n",
       "3    500\n",
       "0    500\n",
       "Name: count, dtype: int64"
      ]
     },
     "execution_count": 5,
     "metadata": {},
     "output_type": "execute_result"
    }
   ],
   "source": [
    "df_train[\"price_range\"].value_counts()"
   ]
  },
  {
   "cell_type": "markdown",
   "id": "2421004a",
   "metadata": {
    "papermill": {
     "duration": 0.006949,
     "end_time": "2025-02-04T16:00:54.811600",
     "exception": false,
     "start_time": "2025-02-04T16:00:54.804651",
     "status": "completed"
    },
    "tags": []
   },
   "source": [
    "## 📊 Visualizing the Price Range Distribution\n",
    "In this part, we're visualizing the distribution of the target variable, which is the price range of the mobile phones in our dataset. This will help us understand how the data is spread across different price categories."
   ]
  },
  {
   "cell_type": "code",
   "execution_count": 6,
   "id": "2ad82546",
   "metadata": {
    "execution": {
     "iopub.execute_input": "2025-02-04T16:00:54.827738Z",
     "iopub.status.busy": "2025-02-04T16:00:54.827348Z",
     "iopub.status.idle": "2025-02-04T16:00:55.174371Z",
     "shell.execute_reply": "2025-02-04T16:00:55.172963Z"
    },
    "papermill": {
     "duration": 0.357761,
     "end_time": "2025-02-04T16:00:55.176595",
     "exception": false,
     "start_time": "2025-02-04T16:00:54.818834",
     "status": "completed"
    },
    "tags": []
   },
   "outputs": [
    {
     "data": {
      "image/png": "[encoded data removed]",
      "text/plain": [
       "<Figure size 800x500 with 1 Axes>"
      ]
     },
     "metadata": {},
     "output_type": "display_data"
    }
   ],
   "source": [
    "price_counts = df_train[\"price_range\"].value_counts()\n",
    "\n",
    "plt.figure(figsize=(8, 5))\n",
    "price_counts.plot(kind=\"bar\", color=[\"blue\", \"green\", \"red\", \"purple\"]) \n",
    "plt.xlabel(\"Price Range\")\n",
    "plt.ylabel(\"Count\")\n",
    "plt.title(\"Distribution of Price Range\")\n",
    "plt.xticks(rotation=0)  \n",
    "plt.show()\n"
   ]
  },
  {
   "cell_type": "code",
   "execution_count": 7,
   "id": "c162757a",
   "metadata": {
    "execution": {
     "iopub.execute_input": "2025-02-04T16:00:55.196789Z",
     "iopub.status.busy": "2025-02-04T16:00:55.196346Z",
     "iopub.status.idle": "2025-02-04T16:00:55.369661Z",
     "shell.execute_reply": "2025-02-04T16:00:55.367885Z"
    },
    "papermill": {
     "duration": 0.186075,
     "end_time": "2025-02-04T16:00:55.371869",
     "exception": false,
     "start_time": "2025-02-04T16:00:55.185794",
     "status": "completed"
    },
    "tags": []
   },
   "outputs": [
    {
     "name": "stdout",
     "output_type": "stream",
     "text": [
      "<class 'pandas.core.frame.DataFrame'>\n",
      "RangeIndex: 2000 entries, 0 to 1999\n",
      "Data columns (total 21 columns):\n",
      " #   Column         Non-Null Count  Dtype  \n",
      "---  ------         --------------  -----  \n",
      " 0   battery_power  2000 non-null   int64  \n",
      " 1   blue           2000 non-null   int64  \n",
      " 2   clock_speed    2000 non-null   float64\n",
      " 3   dual_sim       2000 non-null   int64  \n",
      " 4   fc             2000 non-null   int64  \n",
      " 5   four_g         2000 non-null   int64  \n",
      " 6   int_memory     2000 non-null   int64  \n",
      " 7   m_dep          2000 non-null   float64\n",
      " 8   mobile_wt      2000 non-null   int64  \n",
      " 9   n_cores        2000 non-null   int64  \n",
      " 10  pc             2000 non-null   int64  \n",
      " 11  px_height      2000 non-null   int64  \n",
      " 12  px_width       2000 non-null   int64  \n",
      " 13  ram            2000 non-null   int64  \n",
      " 14  sc_h           2000 non-null   int64  \n",
      " 15  sc_w           2000 non-null   int64  \n",
      " 16  talk_time      2000 non-null   int64  \n",
      " 17  three_g        2000 non-null   int64  \n",
      " 18  touch_screen   2000 non-null   int64  \n",
      " 19  wifi           2000 non-null   int64  \n",
      " 20  price_range    2000 non-null   int64  \n",
      "dtypes: float64(2), int64(19)\n",
      "memory usage: 328.2 KB\n"
     ]
    }
   ],
   "source": [
    "df_train.info()"
   ]
  },
  {
   "cell_type": "code",
   "execution_count": 8,
   "id": "1d8e4412",
   "metadata": {
    "execution": {
     "iopub.execute_input": "2025-02-04T16:00:55.390507Z",
     "iopub.status.busy": "2025-02-04T16:00:55.390098Z",
     "iopub.status.idle": "2025-02-04T16:00:55.396611Z",
     "shell.execute_reply": "2025-02-04T16:00:55.395277Z"
    },
    "papermill": {
     "duration": 0.018017,
     "end_time": "2025-02-04T16:00:55.398678",
     "exception": false,
     "start_time": "2025-02-04T16:00:55.380661",
     "status": "completed"
    },
    "tags": []
   },
   "outputs": [
    {
     "data": {
      "text/plain": [
       "(2000, 21)"
      ]
     },
     "execution_count": 8,
     "metadata": {},
     "output_type": "execute_result"
    }
   ],
   "source": [
    "df_train.shape"
   ]
  },
  {
   "cell_type": "markdown",
   "id": "9c6a0b7e",
   "metadata": {
    "papermill": {
     "duration": 0.008124,
     "end_time": "2025-02-04T16:00:55.415544",
     "exception": false,
     "start_time": "2025-02-04T16:00:55.407420",
     "status": "completed"
    },
    "tags": []
   },
   "source": [
    "## 🔍 Visualizing Missing Values\n",
    "In this part, we're using a visualization tool to identify any missing values in the dataset. It's important to check for missing data because it can affect the performance of machine learning models."
   ]
  },
  {
   "cell_type": "code",
   "execution_count": 9,
   "id": "ff1e20b4",
   "metadata": {
    "execution": {
     "iopub.execute_input": "2025-02-04T16:00:55.434239Z",
     "iopub.status.busy": "2025-02-04T16:00:55.433767Z",
     "iopub.status.idle": "2025-02-04T16:00:56.286818Z",
     "shell.execute_reply": "2025-02-04T16:00:56.285425Z"
    },
    "papermill": {
     "duration": 0.865197,
     "end_time": "2025-02-04T16:00:56.289250",
     "exception": false,
     "start_time": "2025-02-04T16:00:55.424053",
     "status": "completed"
    },
    "tags": []
   },
   "outputs": [
    {
     "data": {
      "text/plain": [
       "Text(0.5, 1.0, 'Missing Values')"
      ]
     },
     "execution_count": 9,
     "metadata": {},
     "output_type": "execute_result"
    },
    {
     "data": {
      "image/png": "[encoded data removed]",
      "text/plain": [
       "<Figure size 2500x1000 with 2 Axes>"
      ]
     },
     "metadata": {},
     "output_type": "display_data"
    }
   ],
   "source": [
    "msno.matrix(df_train).set_title(\"Missing Values\", fontsize=30, fontstyle=\"oblique\")"
   ]
  },
  {
   "cell_type": "code",
   "execution_count": 10,
   "id": "7e264f15",
   "metadata": {
    "execution": {
     "iopub.execute_input": "2025-02-04T16:00:56.313258Z",
     "iopub.status.busy": "2025-02-04T16:00:56.312777Z",
     "iopub.status.idle": "2025-02-04T16:00:56.322462Z",
     "shell.execute_reply": "2025-02-04T16:00:56.320679Z"
    },
    "papermill": {
     "duration": 0.023978,
     "end_time": "2025-02-04T16:00:56.324331",
     "exception": false,
     "start_time": "2025-02-04T16:00:56.300353",
     "status": "completed"
    },
    "tags": []
   },
   "outputs": [
    {
     "data": {
      "text/plain": [
       "0"
      ]
     },
     "execution_count": 10,
     "metadata": {},
     "output_type": "execute_result"
    }
   ],
   "source": [
    "df_train.isna().sum().sum()"
   ]
  },
  {
   "cell_type": "markdown",
   "id": "e4fe83f2",
   "metadata": {
    "papermill": {
     "duration": 0.009864,
     "end_time": "2025-02-04T16:00:56.344533",
     "exception": false,
     "start_time": "2025-02-04T16:00:56.334669",
     "status": "completed"
    },
    "tags": []
   },
   "source": [
    "## 📊 Descriptive Statistics with a Visual Twist\n",
    "In this part, we're generating a summary of the dataset's numerical features. This gives us an overview of key statistics such as the mean, minimum, maximum, and standard deviation for each feature."
   ]
  },
  {
   "cell_type": "code",
   "execution_count": 11,
   "id": "02665446",
   "metadata": {
    "execution": {
     "iopub.execute_input": "2025-02-04T16:00:56.366728Z",
     "iopub.status.busy": "2025-02-04T16:00:56.366354Z",
     "iopub.status.idle": "2025-02-04T16:00:56.542516Z",
     "shell.execute_reply": "2025-02-04T16:00:56.541184Z"
    },
    "papermill": {
     "duration": 0.189606,
     "end_time": "2025-02-04T16:00:56.544677",
     "exception": false,
     "start_time": "2025-02-04T16:00:56.355071",
     "status": "completed"
    },
    "tags": []
   },
   "outputs": [
    {
     "data": {
      "text/html": [
       "<style type=\"text/css\">\n",
       "#T_5e55b_row0_col0, #T_5e55b_row1_col0, #T_5e55b_row2_col0, #T_5e55b_row3_col0, #T_5e55b_row4_col0, #T_5e55b_row5_col0, #T_5e55b_row6_col0, #T_5e55b_row7_col0, #T_5e55b_row8_col0, #T_5e55b_row9_col0, #T_5e55b_row10_col0, #T_5e55b_row11_col0, #T_5e55b_row12_col0, #T_5e55b_row13_col0, #T_5e55b_row14_col0, #T_5e55b_row15_col0, #T_5e55b_row16_col0, #T_5e55b_row17_col0, #T_5e55b_row18_col0, #T_5e55b_row19_col0, #T_5e55b_row20_col0 {\n",
       "  background-color: #faebdd;\n",
       "  color: #000000;\n",
       "}\n",
       "#T_5e55b_row0_col1, #T_5e55b_row12_col5 {\n",
       "  background-color: #d82748;\n",
       "  color: #f1f1f1;\n",
       "}\n",
       "#T_5e55b_row0_col2, #T_5e55b_row11_col2 {\n",
       "  background-color: #ee543f;\n",
       "  color: #f1f1f1;\n",
       "}\n",
       "#T_5e55b_row0_col3, #T_5e55b_row12_col3, #T_5e55b_row13_col1, #T_5e55b_row13_col2, #T_5e55b_row13_col4, #T_5e55b_row13_col5, #T_5e55b_row13_col6, #T_5e55b_row13_col7 {\n",
       "  background-color: #731f58;\n",
       "  color: #f1f1f1;\n",
       "}\n",
       "#T_5e55b_row0_col4 {\n",
       "  background-color: #bd1655;\n",
       "  color: #f1f1f1;\n",
       "}\n",
       "#T_5e55b_row0_col5 {\n",
       "  background-color: #d92847;\n",
       "  color: #f1f1f1;\n",
       "}\n",
       "#T_5e55b_row0_col6 {\n",
       "  background-color: #e13342;\n",
       "  color: #f1f1f1;\n",
       "}\n",
       "#T_5e55b_row0_col7, #T_5e55b_row12_col7 {\n",
       "  background-color: #e53940;\n",
       "  color: #f1f1f1;\n",
       "}\n",
       "#T_5e55b_row1_col1, #T_5e55b_row1_col2, #T_5e55b_row1_col3, #T_5e55b_row1_col4, #T_5e55b_row1_col5, #T_5e55b_row1_col6, #T_5e55b_row1_col7, #T_5e55b_row2_col1, #T_5e55b_row2_col2, #T_5e55b_row2_col3, #T_5e55b_row2_col4, #T_5e55b_row2_col5, #T_5e55b_row2_col6, #T_5e55b_row2_col7, #T_5e55b_row3_col1, #T_5e55b_row3_col2, #T_5e55b_row3_col3, #T_5e55b_row3_col4, #T_5e55b_row3_col5, #T_5e55b_row3_col6, #T_5e55b_row3_col7, #T_5e55b_row4_col1, #T_5e55b_row4_col2, #T_5e55b_row4_col3, #T_5e55b_row4_col4, #T_5e55b_row4_col5, #T_5e55b_row4_col6, #T_5e55b_row4_col7, #T_5e55b_row5_col1, #T_5e55b_row5_col2, #T_5e55b_row5_col3, #T_5e55b_row5_col4, #T_5e55b_row5_col5, #T_5e55b_row5_col6, #T_5e55b_row5_col7, #T_5e55b_row6_col3, #T_5e55b_row7_col1, #T_5e55b_row7_col2, #T_5e55b_row7_col3, #T_5e55b_row7_col4, #T_5e55b_row7_col5, #T_5e55b_row7_col6, #T_5e55b_row7_col7, #T_5e55b_row9_col1, #T_5e55b_row9_col2, #T_5e55b_row9_col3, #T_5e55b_row9_col4, #T_5e55b_row9_col5, #T_5e55b_row9_col6, #T_5e55b_row9_col7, #T_5e55b_row10_col1, #T_5e55b_row10_col2, #T_5e55b_row10_col3, #T_5e55b_row10_col4, #T_5e55b_row10_col5, #T_5e55b_row10_col6, #T_5e55b_row10_col7, #T_5e55b_row11_col3, #T_5e55b_row14_col1, #T_5e55b_row14_col2, #T_5e55b_row14_col5, #T_5e55b_row14_col6, #T_5e55b_row14_col7, #T_5e55b_row15_col1, #T_5e55b_row15_col2, #T_5e55b_row15_col3, #T_5e55b_row15_col4, #T_5e55b_row15_col5, #T_5e55b_row15_col6, #T_5e55b_row15_col7, #T_5e55b_row16_col1, #T_5e55b_row16_col2, #T_5e55b_row16_col3, #T_5e55b_row16_col4, #T_5e55b_row16_col5, #T_5e55b_row16_col6, #T_5e55b_row16_col7, #T_5e55b_row17_col1, #T_5e55b_row17_col2, #T_5e55b_row17_col3, #T_5e55b_row17_col4, #T_5e55b_row17_col5, #T_5e55b_row17_col6, #T_5e55b_row17_col7, #T_5e55b_row18_col1, #T_5e55b_row18_col2, #T_5e55b_row18_col3, #T_5e55b_row18_col4, #T_5e55b_row18_col5, #T_5e55b_row18_col6, #T_5e55b_row18_col7, #T_5e55b_row19_col1, #T_5e55b_row19_col2, #T_5e55b_row19_col3, #T_5e55b_row19_col4, #T_5e55b_row19_col5, #T_5e55b_row19_col6, #T_5e55b_row19_col7, #T_5e55b_row20_col1, #T_5e55b_row20_col2, #T_5e55b_row20_col3, #T_5e55b_row20_col4, #T_5e55b_row20_col5, #T_5e55b_row20_col6, #T_5e55b_row20_col7 {\n",
       "  background-color: #f6be9b;\n",
       "  color: #000000;\n",
       "}\n",
       "#T_5e55b_row6_col1, #T_5e55b_row6_col2, #T_5e55b_row6_col4, #T_5e55b_row6_col5, #T_5e55b_row6_col6, #T_5e55b_row6_col7 {\n",
       "  background-color: #f6bb97;\n",
       "  color: #000000;\n",
       "}\n",
       "#T_5e55b_row8_col1, #T_5e55b_row8_col5 {\n",
       "  background-color: #f6ae87;\n",
       "  color: #000000;\n",
       "}\n",
       "#T_5e55b_row8_col2 {\n",
       "  background-color: #f6b893;\n",
       "  color: #000000;\n",
       "}\n",
       "#T_5e55b_row8_col3 {\n",
       "  background-color: #f5976e;\n",
       "  color: #000000;\n",
       "}\n",
       "#T_5e55b_row8_col4 {\n",
       "  background-color: #f6a981;\n",
       "  color: #000000;\n",
       "}\n",
       "#T_5e55b_row8_col6 {\n",
       "  background-color: #f6b18b;\n",
       "  color: #000000;\n",
       "}\n",
       "#T_5e55b_row8_col7 {\n",
       "  background-color: #f6b38d;\n",
       "  color: #000000;\n",
       "}\n",
       "#T_5e55b_row11_col1 {\n",
       "  background-color: #f3734e;\n",
       "  color: #f1f1f1;\n",
       "}\n",
       "#T_5e55b_row11_col4 {\n",
       "  background-color: #f4845d;\n",
       "  color: #f1f1f1;\n",
       "}\n",
       "#T_5e55b_row11_col5 {\n",
       "  background-color: #f47d57;\n",
       "  color: #f1f1f1;\n",
       "}\n",
       "#T_5e55b_row11_col6 {\n",
       "  background-color: #f3714d;\n",
       "  color: #f1f1f1;\n",
       "}\n",
       "#T_5e55b_row11_col7 {\n",
       "  background-color: #e73d3f;\n",
       "  color: #f1f1f1;\n",
       "}\n",
       "#T_5e55b_row12_col1 {\n",
       "  background-color: #d72549;\n",
       "  color: #f1f1f1;\n",
       "}\n",
       "#T_5e55b_row12_col2 {\n",
       "  background-color: #ef5640;\n",
       "  color: #f1f1f1;\n",
       "}\n",
       "#T_5e55b_row12_col4 {\n",
       "  background-color: #b91657;\n",
       "  color: #f1f1f1;\n",
       "}\n",
       "#T_5e55b_row12_col6 {\n",
       "  background-color: #e03143;\n",
       "  color: #f1f1f1;\n",
       "}\n",
       "#T_5e55b_row13_col3 {\n",
       "  background-color: #e33641;\n",
       "  color: #f1f1f1;\n",
       "}\n",
       "#T_5e55b_row14_col3, #T_5e55b_row14_col4 {\n",
       "  background-color: #f6bc99;\n",
       "  color: #000000;\n",
       "}\n",
       "</style>\n",
       "<table id=\"T_5e55b\">\n",
       "  <thead>\n",
       "    <tr>\n",
       "      <th class=\"blank level0\" >&nbsp;</th>\n",
       "      <th id=\"T_5e55b_level0_col0\" class=\"col_heading level0 col0\" >count</th>\n",
       "      <th id=\"T_5e55b_level0_col1\" class=\"col_heading level0 col1\" >mean</th>\n",
       "      <th id=\"T_5e55b_level0_col2\" class=\"col_heading level0 col2\" >std</th>\n",
       "      <th id=\"T_5e55b_level0_col3\" class=\"col_heading level0 col3\" >min</th>\n",
       "      <th id=\"T_5e55b_level0_col4\" class=\"col_heading level0 col4\" >25%</th>\n",
       "      <th id=\"T_5e55b_level0_col5\" class=\"col_heading level0 col5\" >50%</th>\n",
       "      <th id=\"T_5e55b_level0_col6\" class=\"col_heading level0 col6\" >75%</th>\n",
       "      <th id=\"T_5e55b_level0_col7\" class=\"col_heading level0 col7\" >max</th>\n",
       "    </tr>\n",
       "  </thead>\n",
       "  <tbody>\n",
       "    <tr>\n",
       "      <th id=\"T_5e55b_level0_row0\" class=\"row_heading level0 row0\" >battery_power</th>\n",
       "      <td id=\"T_5e55b_row0_col0\" class=\"data row0 col0\" >2000.000000</td>\n",
       "      <td id=\"T_5e55b_row0_col1\" class=\"data row0 col1\" >1238.518500</td>\n",
       "      <td id=\"T_5e55b_row0_col2\" class=\"data row0 col2\" >439.418206</td>\n",
       "      <td id=\"T_5e55b_row0_col3\" class=\"data row0 col3\" >501.000000</td>\n",
       "      <td id=\"T_5e55b_row0_col4\" class=\"data row0 col4\" >851.750000</td>\n",
       "      <td id=\"T_5e55b_row0_col5\" class=\"data row0 col5\" >1226.000000</td>\n",
       "      <td id=\"T_5e55b_row0_col6\" class=\"data row0 col6\" >1615.250000</td>\n",
       "      <td id=\"T_5e55b_row0_col7\" class=\"data row0 col7\" >1998.000000</td>\n",
       "    </tr>\n",
       "    <tr>\n",
       "      <th id=\"T_5e55b_level0_row1\" class=\"row_heading level0 row1\" >blue</th>\n",
       "      <td id=\"T_5e55b_row1_col0\" class=\"data row1 col0\" >2000.000000</td>\n",
       "      <td id=\"T_5e55b_row1_col1\" class=\"data row1 col1\" >0.495000</td>\n",
       "      <td id=\"T_5e55b_row1_col2\" class=\"data row1 col2\" >0.500100</td>\n",
       "      <td id=\"T_5e55b_row1_col3\" class=\"data row1 col3\" >0.000000</td>\n",
       "      <td id=\"T_5e55b_row1_col4\" class=\"data row1 col4\" >0.000000</td>\n",
       "      <td id=\"T_5e55b_row1_col5\" class=\"data row1 col5\" >0.000000</td>\n",
       "      <td id=\"T_5e55b_row1_col6\" class=\"data row1 col6\" >1.000000</td>\n",
       "      <td id=\"T_5e55b_row1_col7\" class=\"data row1 col7\" >1.000000</td>\n",
       "    </tr>\n",
       "    <tr>\n",
       "      <th id=\"T_5e55b_level0_row2\" class=\"row_heading level0 row2\" >clock_speed</th>\n",
       "      <td id=\"T_5e55b_row2_col0\" class=\"data row2 col0\" >2000.000000</td>\n",
       "      <td id=\"T_5e55b_row2_col1\" class=\"data row2 col1\" >1.522250</td>\n",
       "      <td id=\"T_5e55b_row2_col2\" class=\"data row2 col2\" >0.816004</td>\n",
       "      <td id=\"T_5e55b_row2_col3\" class=\"data row2 col3\" >0.500000</td>\n",
       "      <td id=\"T_5e55b_row2_col4\" class=\"data row2 col4\" >0.700000</td>\n",
       "      <td id=\"T_5e55b_row2_col5\" class=\"data row2 col5\" >1.500000</td>\n",
       "      <td id=\"T_5e55b_row2_col6\" class=\"data row2 col6\" >2.200000</td>\n",
       "      <td id=\"T_5e55b_row2_col7\" class=\"data row2 col7\" >3.000000</td>\n",
       "    </tr>\n",
       "    <tr>\n",
       "      <th id=\"T_5e55b_level0_row3\" class=\"row_heading level0 row3\" >dual_sim</th>\n",
       "      <td id=\"T_5e55b_row3_col0\" class=\"data row3 col0\" >2000.000000</td>\n",
       "      <td id=\"T_5e55b_row3_col1\" class=\"data row3 col1\" >0.509500</td>\n",
       "      <td id=\"T_5e55b_row3_col2\" class=\"data row3 col2\" >0.500035</td>\n",
       "      <td id=\"T_5e55b_row3_col3\" class=\"data row3 col3\" >0.000000</td>\n",
       "      <td id=\"T_5e55b_row3_col4\" class=\"data row3 col4\" >0.000000</td>\n",
       "      <td id=\"T_5e55b_row3_col5\" class=\"data row3 col5\" >1.000000</td>\n",
       "      <td id=\"T_5e55b_row3_col6\" class=\"data row3 col6\" >1.000000</td>\n",
       "      <td id=\"T_5e55b_row3_col7\" class=\"data row3 col7\" >1.000000</td>\n",
       "    </tr>\n",
       "    <tr>\n",
       "      <th id=\"T_5e55b_level0_row4\" class=\"row_heading level0 row4\" >fc</th>\n",
       "      <td id=\"T_5e55b_row4_col0\" class=\"data row4 col0\" >2000.000000</td>\n",
       "      <td id=\"T_5e55b_row4_col1\" class=\"data row4 col1\" >4.309500</td>\n",
       "      <td id=\"T_5e55b_row4_col2\" class=\"data row4 col2\" >4.341444</td>\n",
       "      <td id=\"T_5e55b_row4_col3\" class=\"data row4 col3\" >0.000000</td>\n",
       "      <td id=\"T_5e55b_row4_col4\" class=\"data row4 col4\" >1.000000</td>\n",
       "      <td id=\"T_5e55b_row4_col5\" class=\"data row4 col5\" >3.000000</td>\n",
       "      <td id=\"T_5e55b_row4_col6\" class=\"data row4 col6\" >7.000000</td>\n",
       "      <td id=\"T_5e55b_row4_col7\" class=\"data row4 col7\" >19.000000</td>\n",
       "    </tr>\n",
       "    <tr>\n",
       "      <th id=\"T_5e55b_level0_row5\" class=\"row_heading level0 row5\" >four_g</th>\n",
       "      <td id=\"T_5e55b_row5_col0\" class=\"data row5 col0\" >2000.000000</td>\n",
       "      <td id=\"T_5e55b_row5_col1\" class=\"data row5 col1\" >0.521500</td>\n",
       "      <td id=\"T_5e55b_row5_col2\" class=\"data row5 col2\" >0.499662</td>\n",
       "      <td id=\"T_5e55b_row5_col3\" class=\"data row5 col3\" >0.000000</td>\n",
       "      <td id=\"T_5e55b_row5_col4\" class=\"data row5 col4\" >0.000000</td>\n",
       "      <td id=\"T_5e55b_row5_col5\" class=\"data row5 col5\" >1.000000</td>\n",
       "      <td id=\"T_5e55b_row5_col6\" class=\"data row5 col6\" >1.000000</td>\n",
       "      <td id=\"T_5e55b_row5_col7\" class=\"data row5 col7\" >1.000000</td>\n",
       "    </tr>\n",
       "    <tr>\n",
       "      <th id=\"T_5e55b_level0_row6\" class=\"row_heading level0 row6\" >int_memory</th>\n",
       "      <td id=\"T_5e55b_row6_col0\" class=\"data row6 col0\" >2000.000000</td>\n",
       "      <td id=\"T_5e55b_row6_col1\" class=\"data row6 col1\" >32.046500</td>\n",
       "      <td id=\"T_5e55b_row6_col2\" class=\"data row6 col2\" >18.145715</td>\n",
       "      <td id=\"T_5e55b_row6_col3\" class=\"data row6 col3\" >2.000000</td>\n",
       "      <td id=\"T_5e55b_row6_col4\" class=\"data row6 col4\" >16.000000</td>\n",
       "      <td id=\"T_5e55b_row6_col5\" class=\"data row6 col5\" >32.000000</td>\n",
       "      <td id=\"T_5e55b_row6_col6\" class=\"data row6 col6\" >48.000000</td>\n",
       "      <td id=\"T_5e55b_row6_col7\" class=\"data row6 col7\" >64.000000</td>\n",
       "    </tr>\n",
       "    <tr>\n",
       "      <th id=\"T_5e55b_level0_row7\" class=\"row_heading level0 row7\" >m_dep</th>\n",
       "      <td id=\"T_5e55b_row7_col0\" class=\"data row7 col0\" >2000.000000</td>\n",
       "      <td id=\"T_5e55b_row7_col1\" class=\"data row7 col1\" >0.501750</td>\n",
       "      <td id=\"T_5e55b_row7_col2\" class=\"data row7 col2\" >0.288416</td>\n",
       "      <td id=\"T_5e55b_row7_col3\" class=\"data row7 col3\" >0.100000</td>\n",
       "      <td id=\"T_5e55b_row7_col4\" class=\"data row7 col4\" >0.200000</td>\n",
       "      <td id=\"T_5e55b_row7_col5\" class=\"data row7 col5\" >0.500000</td>\n",
       "      <td id=\"T_5e55b_row7_col6\" class=\"data row7 col6\" >0.800000</td>\n",
       "      <td id=\"T_5e55b_row7_col7\" class=\"data row7 col7\" >1.000000</td>\n",
       "    </tr>\n",
       "    <tr>\n",
       "      <th id=\"T_5e55b_level0_row8\" class=\"row_heading level0 row8\" >mobile_wt</th>\n",
       "      <td id=\"T_5e55b_row8_col0\" class=\"data row8 col0\" >2000.000000</td>\n",
       "      <td id=\"T_5e55b_row8_col1\" class=\"data row8 col1\" >140.249000</td>\n",
       "      <td id=\"T_5e55b_row8_col2\" class=\"data row8 col2\" >35.399655</td>\n",
       "      <td id=\"T_5e55b_row8_col3\" class=\"data row8 col3\" >80.000000</td>\n",
       "      <td id=\"T_5e55b_row8_col4\" class=\"data row8 col4\" >109.000000</td>\n",
       "      <td id=\"T_5e55b_row8_col5\" class=\"data row8 col5\" >141.000000</td>\n",
       "      <td id=\"T_5e55b_row8_col6\" class=\"data row8 col6\" >170.000000</td>\n",
       "      <td id=\"T_5e55b_row8_col7\" class=\"data row8 col7\" >200.000000</td>\n",
       "    </tr>\n",
       "    <tr>\n",
       "      <th id=\"T_5e55b_level0_row9\" class=\"row_heading level0 row9\" >n_cores</th>\n",
       "      <td id=\"T_5e55b_row9_col0\" class=\"data row9 col0\" >2000.000000</td>\n",
       "      <td id=\"T_5e55b_row9_col1\" class=\"data row9 col1\" >4.520500</td>\n",
       "      <td id=\"T_5e55b_row9_col2\" class=\"data row9 col2\" >2.287837</td>\n",
       "      <td id=\"T_5e55b_row9_col3\" class=\"data row9 col3\" >1.000000</td>\n",
       "      <td id=\"T_5e55b_row9_col4\" class=\"data row9 col4\" >3.000000</td>\n",
       "      <td id=\"T_5e55b_row9_col5\" class=\"data row9 col5\" >4.000000</td>\n",
       "      <td id=\"T_5e55b_row9_col6\" class=\"data row9 col6\" >7.000000</td>\n",
       "      <td id=\"T_5e55b_row9_col7\" class=\"data row9 col7\" >8.000000</td>\n",
       "    </tr>\n",
       "    <tr>\n",
       "      <th id=\"T_5e55b_level0_row10\" class=\"row_heading level0 row10\" >pc</th>\n",
       "      <td id=\"T_5e55b_row10_col0\" class=\"data row10 col0\" >2000.000000</td>\n",
       "      <td id=\"T_5e55b_row10_col1\" class=\"data row10 col1\" >9.916500</td>\n",
       "      <td id=\"T_5e55b_row10_col2\" class=\"data row10 col2\" >6.064315</td>\n",
       "      <td id=\"T_5e55b_row10_col3\" class=\"data row10 col3\" >0.000000</td>\n",
       "      <td id=\"T_5e55b_row10_col4\" class=\"data row10 col4\" >5.000000</td>\n",
       "      <td id=\"T_5e55b_row10_col5\" class=\"data row10 col5\" >10.000000</td>\n",
       "      <td id=\"T_5e55b_row10_col6\" class=\"data row10 col6\" >15.000000</td>\n",
       "      <td id=\"T_5e55b_row10_col7\" class=\"data row10 col7\" >20.000000</td>\n",
       "    </tr>\n",
       "    <tr>\n",
       "      <th id=\"T_5e55b_level0_row11\" class=\"row_heading level0 row11\" >px_height</th>\n",
       "      <td id=\"T_5e55b_row11_col0\" class=\"data row11 col0\" >2000.000000</td>\n",
       "      <td id=\"T_5e55b_row11_col1\" class=\"data row11 col1\" >645.108000</td>\n",
       "      <td id=\"T_5e55b_row11_col2\" class=\"data row11 col2\" >443.780811</td>\n",
       "      <td id=\"T_5e55b_row11_col3\" class=\"data row11 col3\" >0.000000</td>\n",
       "      <td id=\"T_5e55b_row11_col4\" class=\"data row11 col4\" >282.750000</td>\n",
       "      <td id=\"T_5e55b_row11_col5\" class=\"data row11 col5\" >564.000000</td>\n",
       "      <td id=\"T_5e55b_row11_col6\" class=\"data row11 col6\" >947.250000</td>\n",
       "      <td id=\"T_5e55b_row11_col7\" class=\"data row11 col7\" >1960.000000</td>\n",
       "    </tr>\n",
       "    <tr>\n",
       "      <th id=\"T_5e55b_level0_row12\" class=\"row_heading level0 row12\" >px_width</th>\n",
       "      <td id=\"T_5e55b_row12_col0\" class=\"data row12 col0\" >2000.000000</td>\n",
       "      <td id=\"T_5e55b_row12_col1\" class=\"data row12 col1\" >1251.515500</td>\n",
       "      <td id=\"T_5e55b_row12_col2\" class=\"data row12 col2\" >432.199447</td>\n",
       "      <td id=\"T_5e55b_row12_col3\" class=\"data row12 col3\" >500.000000</td>\n",
       "      <td id=\"T_5e55b_row12_col4\" class=\"data row12 col4\" >874.750000</td>\n",
       "      <td id=\"T_5e55b_row12_col5\" class=\"data row12 col5\" >1247.000000</td>\n",
       "      <td id=\"T_5e55b_row12_col6\" class=\"data row12 col6\" >1633.000000</td>\n",
       "      <td id=\"T_5e55b_row12_col7\" class=\"data row12 col7\" >1998.000000</td>\n",
       "    </tr>\n",
       "    <tr>\n",
       "      <th id=\"T_5e55b_level0_row13\" class=\"row_heading level0 row13\" >ram</th>\n",
       "      <td id=\"T_5e55b_row13_col0\" class=\"data row13 col0\" >2000.000000</td>\n",
       "      <td id=\"T_5e55b_row13_col1\" class=\"data row13 col1\" >2124.213000</td>\n",
       "      <td id=\"T_5e55b_row13_col2\" class=\"data row13 col2\" >1084.732044</td>\n",
       "      <td id=\"T_5e55b_row13_col3\" class=\"data row13 col3\" >256.000000</td>\n",
       "      <td id=\"T_5e55b_row13_col4\" class=\"data row13 col4\" >1207.500000</td>\n",
       "      <td id=\"T_5e55b_row13_col5\" class=\"data row13 col5\" >2146.500000</td>\n",
       "      <td id=\"T_5e55b_row13_col6\" class=\"data row13 col6\" >3064.500000</td>\n",
       "      <td id=\"T_5e55b_row13_col7\" class=\"data row13 col7\" >3998.000000</td>\n",
       "    </tr>\n",
       "    <tr>\n",
       "      <th id=\"T_5e55b_level0_row14\" class=\"row_heading level0 row14\" >sc_h</th>\n",
       "      <td id=\"T_5e55b_row14_col0\" class=\"data row14 col0\" >2000.000000</td>\n",
       "      <td id=\"T_5e55b_row14_col1\" class=\"data row14 col1\" >12.306500</td>\n",
       "      <td id=\"T_5e55b_row14_col2\" class=\"data row14 col2\" >4.213245</td>\n",
       "      <td id=\"T_5e55b_row14_col3\" class=\"data row14 col3\" >5.000000</td>\n",
       "      <td id=\"T_5e55b_row14_col4\" class=\"data row14 col4\" >9.000000</td>\n",
       "      <td id=\"T_5e55b_row14_col5\" class=\"data row14 col5\" >12.000000</td>\n",
       "      <td id=\"T_5e55b_row14_col6\" class=\"data row14 col6\" >16.000000</td>\n",
       "      <td id=\"T_5e55b_row14_col7\" class=\"data row14 col7\" >19.000000</td>\n",
       "    </tr>\n",
       "    <tr>\n",
       "      <th id=\"T_5e55b_level0_row15\" class=\"row_heading level0 row15\" >sc_w</th>\n",
       "      <td id=\"T_5e55b_row15_col0\" class=\"data row15 col0\" >2000.000000</td>\n",
       "      <td id=\"T_5e55b_row15_col1\" class=\"data row15 col1\" >5.767000</td>\n",
       "      <td id=\"T_5e55b_row15_col2\" class=\"data row15 col2\" >4.356398</td>\n",
       "      <td id=\"T_5e55b_row15_col3\" class=\"data row15 col3\" >0.000000</td>\n",
       "      <td id=\"T_5e55b_row15_col4\" class=\"data row15 col4\" >2.000000</td>\n",
       "      <td id=\"T_5e55b_row15_col5\" class=\"data row15 col5\" >5.000000</td>\n",
       "      <td id=\"T_5e55b_row15_col6\" class=\"data row15 col6\" >9.000000</td>\n",
       "      <td id=\"T_5e55b_row15_col7\" class=\"data row15 col7\" >18.000000</td>\n",
       "    </tr>\n",
       "    <tr>\n",
       "      <th id=\"T_5e55b_level0_row16\" class=\"row_heading level0 row16\" >talk_time</th>\n",
       "      <td id=\"T_5e55b_row16_col0\" class=\"data row16 col0\" >2000.000000</td>\n",
       "      <td id=\"T_5e55b_row16_col1\" class=\"data row16 col1\" >11.011000</td>\n",
       "      <td id=\"T_5e55b_row16_col2\" class=\"data row16 col2\" >5.463955</td>\n",
       "      <td id=\"T_5e55b_row16_col3\" class=\"data row16 col3\" >2.000000</td>\n",
       "      <td id=\"T_5e55b_row16_col4\" class=\"data row16 col4\" >6.000000</td>\n",
       "      <td id=\"T_5e55b_row16_col5\" class=\"data row16 col5\" >11.000000</td>\n",
       "      <td id=\"T_5e55b_row16_col6\" class=\"data row16 col6\" >16.000000</td>\n",
       "      <td id=\"T_5e55b_row16_col7\" class=\"data row16 col7\" >20.000000</td>\n",
       "    </tr>\n",
       "    <tr>\n",
       "      <th id=\"T_5e55b_level0_row17\" class=\"row_heading level0 row17\" >three_g</th>\n",
       "      <td id=\"T_5e55b_row17_col0\" class=\"data row17 col0\" >2000.000000</td>\n",
       "      <td id=\"T_5e55b_row17_col1\" class=\"data row17 col1\" >0.761500</td>\n",
       "      <td id=\"T_5e55b_row17_col2\" class=\"data row17 col2\" >0.426273</td>\n",
       "      <td id=\"T_5e55b_row17_col3\" class=\"data row17 col3\" >0.000000</td>\n",
       "      <td id=\"T_5e55b_row17_col4\" class=\"data row17 col4\" >1.000000</td>\n",
       "      <td id=\"T_5e55b_row17_col5\" class=\"data row17 col5\" >1.000000</td>\n",
       "      <td id=\"T_5e55b_row17_col6\" class=\"data row17 col6\" >1.000000</td>\n",
       "      <td id=\"T_5e55b_row17_col7\" class=\"data row17 col7\" >1.000000</td>\n",
       "    </tr>\n",
       "    <tr>\n",
       "      <th id=\"T_5e55b_level0_row18\" class=\"row_heading level0 row18\" >touch_screen</th>\n",
       "      <td id=\"T_5e55b_row18_col0\" class=\"data row18 col0\" >2000.000000</td>\n",
       "      <td id=\"T_5e55b_row18_col1\" class=\"data row18 col1\" >0.503000</td>\n",
       "      <td id=\"T_5e55b_row18_col2\" class=\"data row18 col2\" >0.500116</td>\n",
       "      <td id=\"T_5e55b_row18_col3\" class=\"data row18 col3\" >0.000000</td>\n",
       "      <td id=\"T_5e55b_row18_col4\" class=\"data row18 col4\" >0.000000</td>\n",
       "      <td id=\"T_5e55b_row18_col5\" class=\"data row18 col5\" >1.000000</td>\n",
       "      <td id=\"T_5e55b_row18_col6\" class=\"data row18 col6\" >1.000000</td>\n",
       "      <td id=\"T_5e55b_row18_col7\" class=\"data row18 col7\" >1.000000</td>\n",
       "    </tr>\n",
       "    <tr>\n",
       "      <th id=\"T_5e55b_level0_row19\" class=\"row_heading level0 row19\" >wifi</th>\n",
       "      <td id=\"T_5e55b_row19_col0\" class=\"data row19 col0\" >2000.000000</td>\n",
       "      <td id=\"T_5e55b_row19_col1\" class=\"data row19 col1\" >0.507000</td>\n",
       "      <td id=\"T_5e55b_row19_col2\" class=\"data row19 col2\" >0.500076</td>\n",
       "      <td id=\"T_5e55b_row19_col3\" class=\"data row19 col3\" >0.000000</td>\n",
       "      <td id=\"T_5e55b_row19_col4\" class=\"data row19 col4\" >0.000000</td>\n",
       "      <td id=\"T_5e55b_row19_col5\" class=\"data row19 col5\" >1.000000</td>\n",
       "      <td id=\"T_5e55b_row19_col6\" class=\"data row19 col6\" >1.000000</td>\n",
       "      <td id=\"T_5e55b_row19_col7\" class=\"data row19 col7\" >1.000000</td>\n",
       "    </tr>\n",
       "    <tr>\n",
       "      <th id=\"T_5e55b_level0_row20\" class=\"row_heading level0 row20\" >price_range</th>\n",
       "      <td id=\"T_5e55b_row20_col0\" class=\"data row20 col0\" >2000.000000</td>\n",
       "      <td id=\"T_5e55b_row20_col1\" class=\"data row20 col1\" >1.500000</td>\n",
       "      <td id=\"T_5e55b_row20_col2\" class=\"data row20 col2\" >1.118314</td>\n",
       "      <td id=\"T_5e55b_row20_col3\" class=\"data row20 col3\" >0.000000</td>\n",
       "      <td id=\"T_5e55b_row20_col4\" class=\"data row20 col4\" >0.750000</td>\n",
       "      <td id=\"T_5e55b_row20_col5\" class=\"data row20 col5\" >1.500000</td>\n",
       "      <td id=\"T_5e55b_row20_col6\" class=\"data row20 col6\" >2.250000</td>\n",
       "      <td id=\"T_5e55b_row20_col7\" class=\"data row20 col7\" >3.000000</td>\n",
       "    </tr>\n",
       "  </tbody>\n",
       "</table>\n"
      ],
      "text/plain": [
       "<pandas.io.formats.style.Styler at 0x793b21ad7a00>"
      ]
     },
     "execution_count": 11,
     "metadata": {},
     "output_type": "execute_result"
    }
   ],
   "source": [
    "df_train.describe().T.style.background_gradient(low=0.2, high=0.5, cmap=\"rocket_r\")\n"
   ]
  },
  {
   "cell_type": "markdown",
   "id": "ea0c3c28",
   "metadata": {
    "papermill": {
     "duration": 0.010684,
     "end_time": "2025-02-04T16:00:56.566768",
     "exception": false,
     "start_time": "2025-02-04T16:00:56.556084",
     "status": "completed"
    },
    "tags": []
   },
   "source": [
    " ## The data has been split into features (X) and target (y) for training preparation."
   ]
  },
  {
   "cell_type": "code",
   "execution_count": 12,
   "id": "cce7986b",
   "metadata": {
    "execution": {
     "iopub.execute_input": "2025-02-04T16:00:56.590129Z",
     "iopub.status.busy": "2025-02-04T16:00:56.589538Z",
     "iopub.status.idle": "2025-02-04T16:00:56.596058Z",
     "shell.execute_reply": "2025-02-04T16:00:56.594779Z"
    },
    "papermill": {
     "duration": 0.020647,
     "end_time": "2025-02-04T16:00:56.598208",
     "exception": false,
     "start_time": "2025-02-04T16:00:56.577561",
     "status": "completed"
    },
    "tags": []
   },
   "outputs": [],
   "source": [
    "X = df_train.drop(columns=['price_range'])  # Features\n",
    "y = df_train['price_range']  # Target Variable"
   ]
  },
  {
   "cell_type": "code",
   "execution_count": 13,
   "id": "050fe463",
   "metadata": {
    "execution": {
     "iopub.execute_input": "2025-02-04T16:00:56.621212Z",
     "iopub.status.busy": "2025-02-04T16:00:56.620811Z",
     "iopub.status.idle": "2025-02-04T16:00:56.625577Z",
     "shell.execute_reply": "2025-02-04T16:00:56.624341Z"
    },
    "papermill": {
     "duration": 0.01829,
     "end_time": "2025-02-04T16:00:56.627393",
     "exception": false,
     "start_time": "2025-02-04T16:00:56.609103",
     "status": "completed"
    },
    "tags": []
   },
   "outputs": [],
   "source": [
    " X_column = X.columns"
   ]
  },
  {
   "cell_type": "code",
   "execution_count": 14,
   "id": "8bde2b13",
   "metadata": {
    "execution": {
     "iopub.execute_input": "2025-02-04T16:00:56.650283Z",
     "iopub.status.busy": "2025-02-04T16:00:56.649866Z",
     "iopub.status.idle": "2025-02-04T16:00:56.662766Z",
     "shell.execute_reply": "2025-02-04T16:00:56.661113Z"
    },
    "papermill": {
     "duration": 0.026925,
     "end_time": "2025-02-04T16:00:56.665184",
     "exception": false,
     "start_time": "2025-02-04T16:00:56.638259",
     "status": "completed"
    },
    "tags": []
   },
   "outputs": [
    {
     "name": "stdout",
     "output_type": "stream",
     "text": [
      "X_train shape is  (1800, 20)\n",
      "X_test shape is  (200, 20)\n",
      "y_train shape is  (1800,)\n",
      "y_test shape is  (200,)\n"
     ]
    }
   ],
   "source": [
    "#Splitting data\n",
    "\n",
    "X_train, X_test, y_train, y_test = train_test_split(X, y, test_size=0.1, random_state=44,  stratify=y)\n",
    "\n",
    "#Splitted Data\n",
    "print('X_train shape is ' , X_train.shape)\n",
    "print('X_test shape is ' , X_test.shape)\n",
    "print('y_train shape is ' , y_train.shape)\n",
    "print('y_test shape is ' , y_test.shape)"
   ]
  },
  {
   "cell_type": "code",
   "execution_count": 15,
   "id": "abe35c63",
   "metadata": {
    "execution": {
     "iopub.execute_input": "2025-02-04T16:00:56.690882Z",
     "iopub.status.busy": "2025-02-04T16:00:56.690505Z",
     "iopub.status.idle": "2025-02-04T16:00:56.710388Z",
     "shell.execute_reply": "2025-02-04T16:00:56.709225Z"
    },
    "papermill": {
     "duration": 0.035092,
     "end_time": "2025-02-04T16:00:56.712782",
     "exception": false,
     "start_time": "2025-02-04T16:00:56.677690",
     "status": "completed"
    },
    "tags": []
   },
   "outputs": [],
   "source": [
    "scaler = StandardScaler()\n",
    "X = scaler.fit_transform(X)\n",
    "scaled_df = pd.DataFrame(X, columns=X_column)\n",
    "#showing data\n"
   ]
  },
  {
   "cell_type": "code",
   "execution_count": 16,
   "id": "c9922d57",
   "metadata": {
    "execution": {
     "iopub.execute_input": "2025-02-04T16:00:56.738115Z",
     "iopub.status.busy": "2025-02-04T16:00:56.737661Z",
     "iopub.status.idle": "2025-02-04T16:00:56.759546Z",
     "shell.execute_reply": "2025-02-04T16:00:56.758093Z"
    },
    "papermill": {
     "duration": 0.036363,
     "end_time": "2025-02-04T16:00:56.761673",
     "exception": false,
     "start_time": "2025-02-04T16:00:56.725310",
     "status": "completed"
    },
    "tags": []
   },
   "outputs": [
    {
     "data": {
      "text/html": [
       "<div>\n",
       "<style scoped>\n",
       "    .dataframe tbody tr th:only-of-type {\n",
       "        vertical-align: middle;\n",
       "    }\n",
       "\n",
       "    .dataframe tbody tr th {\n",
       "        vertical-align: top;\n",
       "    }\n",
       "\n",
       "    .dataframe thead th {\n",
       "        text-align: right;\n",
       "    }\n",
       "</style>\n",
       "<table border=\"1\" class=\"dataframe\">\n",
       "  <thead>\n",
       "    <tr style=\"text-align: right;\">\n",
       "      <th></th>\n",
       "      <th>battery_power</th>\n",
       "      <th>blue</th>\n",
       "      <th>clock_speed</th>\n",
       "      <th>dual_sim</th>\n",
       "      <th>fc</th>\n",
       "      <th>four_g</th>\n",
       "      <th>int_memory</th>\n",
       "      <th>m_dep</th>\n",
       "      <th>mobile_wt</th>\n",
       "      <th>n_cores</th>\n",
       "      <th>pc</th>\n",
       "      <th>px_height</th>\n",
       "      <th>px_width</th>\n",
       "      <th>ram</th>\n",
       "      <th>sc_h</th>\n",
       "      <th>sc_w</th>\n",
       "      <th>talk_time</th>\n",
       "      <th>three_g</th>\n",
       "      <th>touch_screen</th>\n",
       "      <th>wifi</th>\n",
       "    </tr>\n",
       "  </thead>\n",
       "  <tbody>\n",
       "    <tr>\n",
       "      <th>0</th>\n",
       "      <td>-0.902597</td>\n",
       "      <td>-0.990050</td>\n",
       "      <td>0.830779</td>\n",
       "      <td>-1.019184</td>\n",
       "      <td>-0.762495</td>\n",
       "      <td>-1.043966</td>\n",
       "      <td>-1.380644</td>\n",
       "      <td>0.340740</td>\n",
       "      <td>1.349249</td>\n",
       "      <td>-1.101971</td>\n",
       "      <td>-1.305750</td>\n",
       "      <td>-1.408949</td>\n",
       "      <td>-1.146784</td>\n",
       "      <td>0.391703</td>\n",
       "      <td>-0.784983</td>\n",
       "      <td>0.283103</td>\n",
       "      <td>1.462493</td>\n",
       "      <td>-1.786861</td>\n",
       "      <td>-1.006018</td>\n",
       "      <td>0.986097</td>\n",
       "    </tr>\n",
       "    <tr>\n",
       "      <th>1</th>\n",
       "      <td>-0.495139</td>\n",
       "      <td>1.010051</td>\n",
       "      <td>-1.253064</td>\n",
       "      <td>0.981177</td>\n",
       "      <td>-0.992890</td>\n",
       "      <td>0.957886</td>\n",
       "      <td>1.155024</td>\n",
       "      <td>0.687548</td>\n",
       "      <td>-0.120059</td>\n",
       "      <td>-0.664768</td>\n",
       "      <td>-0.645989</td>\n",
       "      <td>0.585778</td>\n",
       "      <td>1.704465</td>\n",
       "      <td>0.467317</td>\n",
       "      <td>1.114266</td>\n",
       "      <td>-0.635317</td>\n",
       "      <td>-0.734267</td>\n",
       "      <td>0.559641</td>\n",
       "      <td>0.994018</td>\n",
       "      <td>-1.014099</td>\n",
       "    </tr>\n",
       "    <tr>\n",
       "      <th>2</th>\n",
       "      <td>-1.537686</td>\n",
       "      <td>1.010051</td>\n",
       "      <td>-1.253064</td>\n",
       "      <td>0.981177</td>\n",
       "      <td>-0.532099</td>\n",
       "      <td>0.957886</td>\n",
       "      <td>0.493546</td>\n",
       "      <td>1.381165</td>\n",
       "      <td>0.134244</td>\n",
       "      <td>0.209639</td>\n",
       "      <td>-0.645989</td>\n",
       "      <td>1.392684</td>\n",
       "      <td>1.074968</td>\n",
       "      <td>0.441498</td>\n",
       "      <td>-0.310171</td>\n",
       "      <td>-0.864922</td>\n",
       "      <td>-0.368140</td>\n",
       "      <td>0.559641</td>\n",
       "      <td>0.994018</td>\n",
       "      <td>-1.014099</td>\n",
       "    </tr>\n",
       "    <tr>\n",
       "      <th>3</th>\n",
       "      <td>-1.419319</td>\n",
       "      <td>1.010051</td>\n",
       "      <td>1.198517</td>\n",
       "      <td>-1.019184</td>\n",
       "      <td>-0.992890</td>\n",
       "      <td>-1.043966</td>\n",
       "      <td>-1.215274</td>\n",
       "      <td>1.034357</td>\n",
       "      <td>-0.261339</td>\n",
       "      <td>0.646842</td>\n",
       "      <td>-0.151168</td>\n",
       "      <td>1.286750</td>\n",
       "      <td>1.236971</td>\n",
       "      <td>0.594569</td>\n",
       "      <td>0.876859</td>\n",
       "      <td>0.512708</td>\n",
       "      <td>-0.002014</td>\n",
       "      <td>0.559641</td>\n",
       "      <td>-1.006018</td>\n",
       "      <td>-1.014099</td>\n",
       "    </tr>\n",
       "    <tr>\n",
       "      <th>4</th>\n",
       "      <td>1.325906</td>\n",
       "      <td>1.010051</td>\n",
       "      <td>-0.395011</td>\n",
       "      <td>-1.019184</td>\n",
       "      <td>2.002254</td>\n",
       "      <td>0.957886</td>\n",
       "      <td>0.658915</td>\n",
       "      <td>0.340740</td>\n",
       "      <td>0.021220</td>\n",
       "      <td>-1.101971</td>\n",
       "      <td>0.673534</td>\n",
       "      <td>1.268718</td>\n",
       "      <td>-0.091452</td>\n",
       "      <td>-0.657666</td>\n",
       "      <td>-1.022389</td>\n",
       "      <td>-0.864922</td>\n",
       "      <td>0.730240</td>\n",
       "      <td>0.559641</td>\n",
       "      <td>0.994018</td>\n",
       "      <td>-1.014099</td>\n",
       "    </tr>\n",
       "  </tbody>\n",
       "</table>\n",
       "</div>"
      ],
      "text/plain": [
       "   battery_power      blue  clock_speed  dual_sim        fc    four_g  \\\n",
       "0      -0.902597 -0.990050     0.830779 -1.019184 -0.762495 -1.043966   \n",
       "1      -0.495139  1.010051    -1.253064  0.981177 -0.992890  0.957886   \n",
       "2      -1.537686  1.010051    -1.253064  0.981177 -0.532099  0.957886   \n",
       "3      -1.419319  1.010051     1.198517 -1.019184 -0.992890 -1.043966   \n",
       "4       1.325906  1.010051    -0.395011 -1.019184  2.002254  0.957886   \n",
       "\n",
       "   int_memory     m_dep  mobile_wt   n_cores        pc  px_height  px_width  \\\n",
       "0   -1.380644  0.340740   1.349249 -1.101971 -1.305750  -1.408949 -1.146784   \n",
       "1    1.155024  0.687548  -0.120059 -0.664768 -0.645989   0.585778  1.704465   \n",
       "2    0.493546  1.381165   0.134244  0.209639 -0.645989   1.392684  1.074968   \n",
       "3   -1.215274  1.034357  -0.261339  0.646842 -0.151168   1.286750  1.236971   \n",
       "4    0.658915  0.340740   0.021220 -1.101971  0.673534   1.268718 -0.091452   \n",
       "\n",
       "        ram      sc_h      sc_w  talk_time   three_g  touch_screen      wifi  \n",
       "0  0.391703 -0.784983  0.283103   1.462493 -1.786861     -1.006018  0.986097  \n",
       "1  0.467317  1.114266 -0.635317  -0.734267  0.559641      0.994018 -1.014099  \n",
       "2  0.441498 -0.310171 -0.864922  -0.368140  0.559641      0.994018 -1.014099  \n",
       "3  0.594569  0.876859  0.512708  -0.002014  0.559641     -1.006018 -1.014099  \n",
       "4 -0.657666 -1.022389 -0.864922   0.730240  0.559641      0.994018 -1.014099  "
      ]
     },
     "execution_count": 16,
     "metadata": {},
     "output_type": "execute_result"
    }
   ],
   "source": [
    "scaled_df.head()"
   ]
  },
  {
   "cell_type": "markdown",
   "id": "6efdb277",
   "metadata": {
    "papermill": {
     "duration": 0.011653,
     "end_time": "2025-02-04T16:00:56.785256",
     "exception": false,
     "start_time": "2025-02-04T16:00:56.773603",
     "status": "completed"
    },
    "tags": []
   },
   "source": [
    "#  The algorithms for training:\n",
    " - **1. Logistic Regression**,\n",
    "- **2. Random Forest**, \n",
    "- **3. Support Vector Machine (SVM)**,\n",
    "- **4. XGBoost.**"
   ]
  },
  {
   "cell_type": "markdown",
   "id": "516b1638",
   "metadata": {
    "papermill": {
     "duration": 0.011264,
     "end_time": "2025-02-04T16:00:56.808267",
     "exception": false,
     "start_time": "2025-02-04T16:00:56.797003",
     "status": "completed"
    },
    "tags": []
   },
   "source": [
    "# 1. Logistic Regression¶"
   ]
  },
  {
   "cell_type": "code",
   "execution_count": 17,
   "id": "e6959fcb",
   "metadata": {
    "execution": {
     "iopub.execute_input": "2025-02-04T16:00:56.832881Z",
     "iopub.status.busy": "2025-02-04T16:00:56.832460Z",
     "iopub.status.idle": "2025-02-04T16:00:57.011236Z",
     "shell.execute_reply": "2025-02-04T16:00:57.009666Z"
    },
    "papermill": {
     "duration": 0.193877,
     "end_time": "2025-02-04T16:00:57.013611",
     "exception": false,
     "start_time": "2025-02-04T16:00:56.819734",
     "status": "completed"
    },
    "tags": []
   },
   "outputs": [
    {
     "data": {
      "text/plain": [
       "0.805"
      ]
     },
     "execution_count": 17,
     "metadata": {},
     "output_type": "execute_result"
    }
   ],
   "source": [
    "from sklearn.linear_model import LogisticRegression\n",
    "from sklearn.metrics import accuracy_score\n",
    "\n",
    "log_Reg = LogisticRegression(multi_class='ovr', solver='liblinear')\n",
    "log_Reg.fit(X_train, y_train)\n",
    "y_pred_log = log_Reg.predict(X_test)\n",
    "log_acc = accuracy_score(y_test, y_pred_log)\n",
    "log_acc"
   ]
  },
  {
   "cell_type": "markdown",
   "id": "38a444fc",
   "metadata": {
    "papermill": {
     "duration": 0.010749,
     "end_time": "2025-02-04T16:00:57.035957",
     "exception": false,
     "start_time": "2025-02-04T16:00:57.025208",
     "status": "completed"
    },
    "tags": []
   },
   "source": [
    "# 2. Random Forest Classifier"
   ]
  },
  {
   "cell_type": "code",
   "execution_count": 18,
   "id": "45c46d1a",
   "metadata": {
    "execution": {
     "iopub.execute_input": "2025-02-04T16:00:57.060263Z",
     "iopub.status.busy": "2025-02-04T16:00:57.059786Z",
     "iopub.status.idle": "2025-02-04T16:00:57.552120Z",
     "shell.execute_reply": "2025-02-04T16:00:57.550607Z"
    },
    "papermill": {
     "duration": 0.506688,
     "end_time": "2025-02-04T16:00:57.554148",
     "exception": false,
     "start_time": "2025-02-04T16:00:57.047460",
     "status": "completed"
    },
    "tags": []
   },
   "outputs": [
    {
     "data": {
      "text/plain": [
       "0.885"
      ]
     },
     "execution_count": 18,
     "metadata": {},
     "output_type": "execute_result"
    }
   ],
   "source": [
    "from sklearn.ensemble import RandomForestClassifier\n",
    "\n",
    "rf_model = RandomForestClassifier(n_estimators=100, random_state=42)\n",
    "rf_model.fit(X_train, y_train)\n",
    "y_pred_rf = rf_model.predict(X_test)\n",
    "rf_acc = accuracy_score(y_test, y_pred_rf)\n",
    "rf_acc"
   ]
  },
  {
   "cell_type": "markdown",
   "id": "82c2f245",
   "metadata": {
    "papermill": {
     "duration": 0.010946,
     "end_time": "2025-02-04T16:00:57.577244",
     "exception": false,
     "start_time": "2025-02-04T16:00:57.566298",
     "status": "completed"
    },
    "tags": []
   },
   "source": [
    "# 3. Support Vector Machine (SVM)"
   ]
  },
  {
   "cell_type": "code",
   "execution_count": 19,
   "id": "5910e454",
   "metadata": {
    "execution": {
     "iopub.execute_input": "2025-02-04T16:00:57.601894Z",
     "iopub.status.busy": "2025-02-04T16:00:57.601425Z",
     "iopub.status.idle": "2025-02-04T16:01:15.734033Z",
     "shell.execute_reply": "2025-02-04T16:01:15.732882Z"
    },
    "papermill": {
     "duration": 18.147327,
     "end_time": "2025-02-04T16:01:15.735752",
     "exception": false,
     "start_time": "2025-02-04T16:00:57.588425",
     "status": "completed"
    },
    "tags": []
   },
   "outputs": [
    {
     "data": {
      "text/plain": [
       "0.975"
      ]
     },
     "execution_count": 19,
     "metadata": {},
     "output_type": "execute_result"
    }
   ],
   "source": [
    "from sklearn.svm import SVC\n",
    "\n",
    "svm_model = SVC(kernel='linear')\n",
    "svm_model.fit(X_train, y_train)\n",
    "y_pred_svm = svm_model.predict(X_test)\n",
    "svm_acc = accuracy_score(y_test, y_pred_svm)\n",
    "svm_acc"
   ]
  },
  {
   "cell_type": "markdown",
   "id": "5e9710d8",
   "metadata": {
    "papermill": {
     "duration": 0.010799,
     "end_time": "2025-02-04T16:01:15.758011",
     "exception": false,
     "start_time": "2025-02-04T16:01:15.747212",
     "status": "completed"
    },
    "tags": []
   },
   "source": [
    "#  4. XGBoost Classifier"
   ]
  },
  {
   "cell_type": "code",
   "execution_count": 20,
   "id": "542d5698",
   "metadata": {
    "execution": {
     "iopub.execute_input": "2025-02-04T16:01:15.781877Z",
     "iopub.status.busy": "2025-02-04T16:01:15.781443Z",
     "iopub.status.idle": "2025-02-04T16:01:16.205503Z",
     "shell.execute_reply": "2025-02-04T16:01:16.204432Z"
    },
    "papermill": {
     "duration": 0.438635,
     "end_time": "2025-02-04T16:01:16.207766",
     "exception": false,
     "start_time": "2025-02-04T16:01:15.769131",
     "status": "completed"
    },
    "tags": []
   },
   "outputs": [
    {
     "data": {
      "text/plain": [
       "0.905"
      ]
     },
     "execution_count": 20,
     "metadata": {},
     "output_type": "execute_result"
    }
   ],
   "source": [
    "import xgboost as xgb\n",
    "xgb_model = xgb.XGBClassifier(use_label_encoder=False, eval_metric='mlogloss')\n",
    "xgb_model.fit(X_train, y_train)\n",
    "y_pred_xgb = xgb_model.predict(X_test)\n",
    "xgb_acc = accuracy_score(y_test, y_pred_xgb)\n",
    "xgb_acc"
   ]
  },
  {
   "cell_type": "markdown",
   "id": "e48d6936",
   "metadata": {
    "papermill": {
     "duration": 0.01165,
     "end_time": "2025-02-04T16:01:16.233670",
     "exception": false,
     "start_time": "2025-02-04T16:01:16.222020",
     "status": "completed"
    },
    "tags": []
   },
   "source": [
    "# Evaluate Models"
   ]
  },
  {
   "cell_type": "code",
   "execution_count": 21,
   "id": "cb62a13f",
   "metadata": {
    "execution": {
     "iopub.execute_input": "2025-02-04T16:01:16.259093Z",
     "iopub.status.busy": "2025-02-04T16:01:16.258641Z",
     "iopub.status.idle": "2025-02-04T16:01:16.265043Z",
     "shell.execute_reply": "2025-02-04T16:01:16.263505Z"
    },
    "papermill": {
     "duration": 0.021161,
     "end_time": "2025-02-04T16:01:16.266837",
     "exception": false,
     "start_time": "2025-02-04T16:01:16.245676",
     "status": "completed"
    },
    "tags": []
   },
   "outputs": [
    {
     "name": "stdout",
     "output_type": "stream",
     "text": [
      "Logistic Regression Accuracy: 0.81\n",
      "Random Forest Accuracy: 0.89\n",
      "SVM Accuracy: 0.97\n",
      "XGBoost Accuracy: 0.91\n"
     ]
    }
   ],
   "source": [
    "print(f\"Logistic Regression Accuracy: {log_acc:.2f}\")\n",
    "print(f\"Random Forest Accuracy: {rf_acc:.2f}\")\n",
    "print(f\"SVM Accuracy: {svm_acc:.2f}\")\n",
    "print(f\"XGBoost Accuracy: {xgb_acc:.2f}\")"
   ]
  },
  {
   "cell_type": "markdown",
   "id": "180c02f2",
   "metadata": {
    "papermill": {
     "duration": 0.010772,
     "end_time": "2025-02-04T16:01:16.289430",
     "exception": false,
     "start_time": "2025-02-04T16:01:16.278658",
     "status": "completed"
    },
    "tags": []
   },
   "source": [
    "# Confusion Matrix for Random Forest"
   ]
  },
  {
   "cell_type": "code",
   "execution_count": 22,
   "id": "31478205",
   "metadata": {
    "execution": {
     "iopub.execute_input": "2025-02-04T16:01:16.315278Z",
     "iopub.status.busy": "2025-02-04T16:01:16.314817Z",
     "iopub.status.idle": "2025-02-04T16:01:16.330919Z",
     "shell.execute_reply": "2025-02-04T16:01:16.329225Z"
    },
    "papermill": {
     "duration": 0.030743,
     "end_time": "2025-02-04T16:01:16.333186",
     "exception": false,
     "start_time": "2025-02-04T16:01:16.302443",
     "status": "completed"
    },
    "tags": []
   },
   "outputs": [
    {
     "name": "stdout",
     "output_type": "stream",
     "text": [
      "              precision    recall  f1-score   support\n",
      "\n",
      "           0       1.00      0.98      0.99        50\n",
      "           1       0.96      0.96      0.96        50\n",
      "           2       0.94      0.98      0.96        50\n",
      "           3       1.00      0.98      0.99        50\n",
      "\n",
      "    accuracy                           0.97       200\n",
      "   macro avg       0.98      0.97      0.98       200\n",
      "weighted avg       0.98      0.97      0.98       200\n",
      "\n"
     ]
    }
   ],
   "source": [
    "from sklearn.metrics import classification_report, confusion_matrix\n",
    "\n",
    "best_model = svm_model  # Assuming  is best for this case\n",
    "y_pred_best = best_model.predict(X_test)\n",
    "print(classification_report(y_test, y_pred_best))"
   ]
  },
  {
   "cell_type": "markdown",
   "id": "a5456786",
   "metadata": {
    "papermill": {
     "duration": 0.011371,
     "end_time": "2025-02-04T16:01:16.357019",
     "exception": false,
     "start_time": "2025-02-04T16:01:16.345648",
     "status": "completed"
    },
    "tags": []
   },
   "source": [
    "# Plot Confusion Matrix"
   ]
  },
  {
   "cell_type": "code",
   "execution_count": 23,
   "id": "c11a1499",
   "metadata": {
    "execution": {
     "iopub.execute_input": "2025-02-04T16:01:16.382833Z",
     "iopub.status.busy": "2025-02-04T16:01:16.382410Z",
     "iopub.status.idle": "2025-02-04T16:01:16.645232Z",
     "shell.execute_reply": "2025-02-04T16:01:16.643937Z"
    },
    "papermill": {
     "duration": 0.277809,
     "end_time": "2025-02-04T16:01:16.647051",
     "exception": false,
     "start_time": "2025-02-04T16:01:16.369242",
     "status": "completed"
    },
    "tags": []
   },
   "outputs": [
    {
     "data": {
      "image/png": "[encoded data removed]",
      "text/plain": [
       "<Figure size 600x500 with 2 Axes>"
      ]
     },
     "metadata": {},
     "output_type": "display_data"
    }
   ],
   "source": [
    "plt.figure(figsize=(6,5))\n",
    "cm = confusion_matrix(y_test, y_pred_best)\n",
    "sns.heatmap(cm, annot=True, fmt='d', cmap='Blues')\n",
    "plt.xlabel('Predicted')\n",
    "plt.ylabel('Actual')\n",
    "plt.title('Confusion Matrix')\n",
    "plt.show()"
   ]
  },
  {
   "cell_type": "code",
   "execution_count": null,
   "id": "463db1e3",
   "metadata": {
    "papermill": {
     "duration": 0.011706,
     "end_time": "2025-02-04T16:01:16.671151",
     "exception": false,
     "start_time": "2025-02-04T16:01:16.659445",
     "status": "completed"
    },
    "tags": []
   },
   "outputs": [],
   "source": []
  }
 ],
 "metadata": {
  "kaggle": {
   "accelerator": "none",
   "dataSources": [
    {
     "datasetId": 11167,
     "sourceId": 15520,
     "sourceType": "datasetVersion"
    }
   ],
   "dockerImageVersionId": 30839,
   "isGpuEnabled": false,
   "isInternetEnabled": true,
   "language": "python",
   "sourceType": "notebook"
  },
  "kernelspec": {
   "display_name": "Python 3",
   "language": "python",
   "name": "python3"
  },
  "language_info": {
   "codemirror_mode": {
    "name": "ipython",
    "version": 3
   },
   "file_extension": ".py",
   "mimetype": "text/x-python",
   "name": "python",
   "nbconvert_exporter": "python",
   "pygments_lexer": "ipython3",
   "version": "3.10.12"
  },
  "papermill": {
   "default_parameters": {},
   "duration": 31.280693,
   "end_time": "2025-02-04T16:01:17.807835",
   "environment_variables": {},
   "exception": null,
   "input_path": "__notebook__.ipynb",
   "output_path": "__notebook__.ipynb",
   "parameters": {},
   "start_time": "2025-02-04T16:00:46.527142",
   "version": "2.6.0"
  }
 },
 "nbformat": 4,
 "nbformat_minor": 5
}
